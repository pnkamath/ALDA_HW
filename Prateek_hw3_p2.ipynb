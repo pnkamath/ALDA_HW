{
  "cells": [
    {
      "cell_type": "markdown",
      "metadata": {
        "nbgrader": {
          "grade": false,
          "grade_id": "cell-13c5ff854ff08180",
          "locked": true,
          "schema_version": 3,
          "solution": false,
          "task": false
        },
        "id": "VC63mauyquAb"
      },
      "source": [
        "## **HW3 Problem 2 (15 points): Artifical Neural Networks [TA: Sogol Mansouri]**\n"
      ]
    },
    {
      "cell_type": "markdown",
      "metadata": {
        "nbgrader": {
          "grade": false,
          "grade_id": "cell-58e7d9549befcb26",
          "locked": true,
          "schema_version": 3,
          "solution": false,
          "task": false
        },
        "id": "ivM7_FjEquAe"
      },
      "source": [
        "### 1) Neural Network Playground"
      ]
    },
    {
      "cell_type": "markdown",
      "metadata": {
        "nbgrader": {
          "grade": false,
          "grade_id": "cell-b5a9ea2f81e0f5ad",
          "locked": true,
          "schema_version": 3,
          "solution": false,
          "task": false
        },
        "id": "HbrQ0WjjquAe"
      },
      "source": [
        "First, go to Tensorflow's [Neural Network Playground](https://playground.tensorflow.org/). This website is an interactive and exploratory visualization of how the features, number of layers, training time, etc, influence the classification boundries of an ANN. Right now, we'll only worry ourselves with *classification* problems.\n",
        "\n",
        "Play with the visualization, and then answer the following questions below.\n",
        "\n",
        "#### Scenarios\n",
        "\n",
        "1. Using the default network topology, try training the network with the different activation functions (ReLU, Tanh, Sigmoid, Linear). What effect does the activation function have on the training time? What effect does the activation function have on the shape of the classification boundries?\n",
        "2. Take a look at [this setup](https://playground.tensorflow.org/#activation=tanh&batchSize=10&dataset=xor&regDataset=reg-plane&learningRate=0.03&regularizationRate=0&noise=0&networkShape=2,2&seed=0.21855&showTestData=false&discretize=false&percTrainData=50&x=true&y=true&xTimesY=false&xSquared=false&ySquared=false&cosX=false&sinX=false&cosY=false&sinY=false&collectStats=false&problem=classification&initZero=false&hideText=false). Train until the classification boundry converges. This is one of the rare cases where the nodes in an ANN can be (semi) interpreted. What do the nodes in the first hidden layer represent? What about the second hidden layer? How do you think the ANN uses these learned \"features\" to make a decision?\n",
        "\n",
        "#### Exploration\n",
        "For each of the following questions:\n",
        "* Make a prediction before you begin exploring and testing.\n",
        "* Include a link to your scenario.\n",
        "* Explain why you think this scenario has this property.\n",
        "\n",
        "**Questions**\n",
        "\n",
        "3. Find a scenario where a simple model (fewer neurons) outperforms a complex model. (In regards to overfitting)\n",
        "4. Find a scenario where no hidden layers perform well.\n",
        "5. Find a scenario where a model with no hidden layers performs poorly no matter the features.\n",
        "6. Find a scenario where it takes a lot of training time to get a correct solution."
      ]
    },
    {
      "cell_type": "markdown",
      "metadata": {
        "nbgrader": {
          "grade": true,
          "grade_id": "ANN-explore",
          "locked": false,
          "points": 6,
          "schema_version": 3,
          "solution": true,
          "task": false
        },
        "id": "CgvpyYFxquAf"
      },
      "source": [
        "1. Effect of Activation Functions\n",
        "Training Time:\n",
        "\n",
        "ReLU: Generally faster training time due to its simplicity and the fact that it does not saturate for positive values. However, it can suffer from the \"dying ReLU\" problem where neurons can become inactive.\n",
        "Tanh: Training time is moderate. It can saturate for extreme values, which can slow down training as gradients become very small.\n",
        "Sigmoid: Typically leads to slower training times because it saturates for both high and low values, causing gradients to vanish.\n",
        "Linear: Not suitable for classification tasks as it does not introduce non-linearity, leading to poor training performance.\n",
        "Shape of Classification Boundaries:\n",
        "\n",
        "ReLU: Produces piecewise linear boundaries, which can create complex shapes when stacked in multiple layers.\n",
        "Tanh: Allows for smoother, more flexible boundaries due to its non-linear nature, helping to capture more complex patterns.\n",
        "Sigmoid: Similar to Tanh but can lead to more rounded boundaries, which may not capture complex patterns effectively.\n",
        "Linear: Results in straight-line boundaries, which are insufficient for most classification tasks.\n",
        "2. Interpretation of Nodes in the XOR Setup\n",
        "In the XOR setup, the nodes in the first hidden layer represent basic features that help the network distinguish between the input classes. For example, one node might detect whether the input is in the upper left or lower right quadrant, while another might detect the opposite (upper right or lower left).\n",
        "\n",
        "The second hidden layer combines these features to create more complex decision boundaries. Essentially, the first layer learns simple patterns, and the second layer combines these patterns to create the final decision boundary that can classify the XOR problem correctly.\n",
        "3. Scenario with Simple Model Outperforming Complex Model\n",
        "Prediction: A simpler model will likely perform better when the dataset is small or has a low complexity.\n",
        "Explanation: In this scenario, a simpler model with fewer neurons can generalize better than a complex model, which may overfit the data. Overfitting occurs when the model learns the noise in the training data instead of the underlying pattern, leading to poor performance on unseen data.\n",
        "4. Scenario Where No Hidden Layers Perform Well\n",
        "Prediction: A linear dataset will likely perform well with no hidden layers.\n",
        "\n",
        "Explanation: In this case, the data is linearly separable, so a model without hidden layers (essentially a linear model) can effectively classify the data without needing complex decision boundaries.\n",
        "5. ReLU: Generally faster training time due to its simplicity and the fact that it does not saturate for positive values. However, it can suffer from the \"dying ReLU\" problem where neurons can become inactive.\n",
        "Tanh: Training time is moderate. It can saturate for extreme values, which can slow down training as gradients become very small.\n",
        "Sigmoid: Typically leads to slower training times because it saturates for both high and low values, causing gradients to vanish.\n",
        "Linear: Not suitable for classification tasks as it does not introduce non-linearity, leading to poor training performance.\n",
        "Shape of Classification Boundaries:\n",
        "\n",
        "ReLU: Produces piecewise linear boundaries, which can create complex shapes when stacked in multiple layers.\n",
        "Tanh: Allows for smoother, more flexible boundaries due to its non-linear nature, helping to capture more complex patterns.\n",
        "Sigmoid: Similar to Tanh but can lead to more rounded boundaries, which may not capture complex patterns effectively.\n",
        "Linear: Results in straight-line boundaries, which are insufficient for most classification tasks.\n",
        "2. Interpretation of Nodes in the XOR Setup\n",
        "In the XOR setup, the nodes in the first hidden layer represent basic features that help the network distinguish between the input classes. For example, one node might detect whether the input is in the upper left or lower right quadrant, while another might detect the opposite (upper right or lower left).\n",
        "\n",
        "The second hidden layer combines these features to create more complex decision boundaries. Essentially, the first layer learns simple patterns, and the second layer combines these patterns to create the final decision boundary that can classify the XOR problem correctly.\n",
        "\n",
        "Link to the Setup: XOR Neural Network\n",
        "\n",
        "3. Scenario with Simple Model Outperforming Complex Model\n",
        "Prediction: A simpler model will likely perform better when the dataset is small or has a low complexity.\n",
        "\n",
        "Link to the Scenario: Simple vs. Complex\n",
        "\n",
        "Explanation: In this scenario, a simpler model with fewer neurons can generalize better than a complex model, which may overfit the data. Overfitting occurs when the model learns the noise in the training data instead of the underlying pattern, leading to poor performance on unseen data.\n",
        "\n",
        "4. Scenario Where No Hidden Layers Perform Well\n",
        "Prediction: A linear dataset will likely perform well with no hidden layers.\n",
        "\n",
        "Link to the Scenario: Linear Dataset\n",
        "\n",
        "Explanation: In this case, the data is linearly separable, so a model without hidden layers (essentially a linear model) can effectively classify the data without needing complex decision boundaries.\n",
        "\n",
        "Scenario Where No Hidden Layers Perform Poorly\n",
        "Prediction: A non-linear dataset will likely perform poorly without hidden layers.\n",
        "\n",
        "Explanation: In this scenario, the XOR dataset is non-linear, and a model without hidden layers cannot capture the complex decision boundary required to classify the data correctly.\n",
        "\n",
        "6. Scenario Where Training Takes a Lot of Time\n",
        "Prediction: A complex dataset with a large number of features will likely require a lot of training time.\n",
        "\n",
        "Explanation: In this scenario, the circles dataset has a large number of features, making it computationally expensive to train the model. Additionally, the complex decision boundary required to classify the data correctly adds to the training time."
      ]
    },
    {
      "cell_type": "markdown",
      "metadata": {
        "nbgrader": {
          "grade": false,
          "grade_id": "cell-e9233095f9bf0595",
          "locked": true,
          "schema_version": 3,
          "solution": false,
          "task": false
        },
        "id": "SR5p28WgquAg"
      },
      "source": [
        "## 2) Training and Testing a Neural Network (Group)\n",
        "\n",
        "For this problem, you'll be looking at a subset of the [UCI ML hand-written digits datasets](https://archive.ics.uci.edu/ml/datasets/Optical+Recognition+of+Handwritten+Digits), which contains images of hand-written digits: 10 classes where each class refers to a digit.\n",
        "\n",
        "Each data entry is a input matrix of 8x8 where each element is an integer in the range 0..16. The matrix is flattened in the dataset.\n"
      ]
    },
    {
      "cell_type": "markdown",
      "metadata": {
        "nbgrader": {
          "grade": false,
          "grade_id": "cell-2add9a421651bb2d",
          "locked": true,
          "schema_version": 3,
          "solution": false,
          "task": false
        },
        "id": "kMJJORoiquAg"
      },
      "source": [
        "For this question, **you have enough experience to do the entire model pipeline yourself**. That means *loading the data, creating splits, scaling the data, training and tuning the model, and evaluating the model.*"
      ]
    },
    {
      "cell_type": "code",
      "execution_count": null,
      "metadata": {
        "nbgrader": {
          "grade": false,
          "grade_id": "cell-72eba8ac84354b45",
          "locked": true,
          "schema_version": 3,
          "solution": false,
          "task": false
        },
        "id": "m3m0yyWXquAg"
      },
      "outputs": [],
      "source": [
        "#Import necessary libraries\n",
        "import pandas as pd\n",
        "import numpy as np\n",
        "import warnings\n",
        "warnings.filterwarnings('ignore')\n",
        "\n",
        "random_state = 42"
      ]
    },
    {
      "cell_type": "markdown",
      "metadata": {
        "nbgrader": {
          "grade": false,
          "grade_id": "cell-5c9b6a78fc7c131d",
          "locked": true,
          "schema_version": 3,
          "solution": false,
          "task": false
        },
        "id": "EFsa4ZFYquAh"
      },
      "source": [
        "### Step 1: Load the data. Use `np.unique()` to check the class balance."
      ]
    },
    {
      "cell_type": "code",
      "execution_count": null,
      "metadata": {
        "id": "v_bw03yEquAh"
      },
      "outputs": [],
      "source": [
        "from sklearn.datasets import load_digits\n",
        "df = load_digits()"
      ]
    },
    {
      "cell_type": "code",
      "execution_count": null,
      "metadata": {
        "nbgrader": {
          "grade": false,
          "grade_id": "cell-71b61c2fc389a33f",
          "locked": true,
          "schema_version": 3,
          "solution": false,
          "task": false
        },
        "colab": {
          "base_uri": "https://localhost:8080/"
        },
        "id": "ryrf95QXquAh",
        "outputId": "f0fcbb29-6d3c-4dd6-bd85-5d81b756f343"
      },
      "outputs": [
        {
          "output_type": "execute_result",
          "data": {
            "text/plain": [
              "array([[ 0.,  0.,  5., ...,  0.,  0.,  0.],\n",
              "       [ 0.,  0.,  0., ..., 10.,  0.,  0.],\n",
              "       [ 0.,  0.,  0., ..., 16.,  9.,  0.],\n",
              "       ...,\n",
              "       [ 0.,  0.,  1., ...,  6.,  0.,  0.],\n",
              "       [ 0.,  0.,  2., ..., 12.,  0.,  0.],\n",
              "       [ 0.,  0., 10., ..., 12.,  1.,  0.]])"
            ]
          },
          "metadata": {},
          "execution_count": 3
        }
      ],
      "source": [
        "df.data"
      ]
    },
    {
      "cell_type": "code",
      "execution_count": null,
      "metadata": {
        "nbgrader": {
          "grade": false,
          "grade_id": "cell-cdddfe25259e2bea",
          "locked": true,
          "schema_version": 3,
          "solution": false,
          "task": false
        },
        "colab": {
          "base_uri": "https://localhost:8080/"
        },
        "id": "mmFExgQgquAi",
        "outputId": "951227cb-0be0-4be1-f13b-5f278f3cad9f"
      },
      "outputs": [
        {
          "output_type": "execute_result",
          "data": {
            "text/plain": [
              "(array([0, 1, 2, 3, 4, 5, 6, 7, 8, 9]),\n",
              " array([178, 182, 177, 183, 181, 182, 181, 179, 174, 180]))"
            ]
          },
          "metadata": {},
          "execution_count": 4
        }
      ],
      "source": [
        "# Get a distribution of the class label (target)\n",
        "np.unique(df.target, return_counts=True)"
      ]
    },
    {
      "cell_type": "code",
      "source": [
        "# Check class balance\n",
        "unique_classes, class_counts = np.unique(df.target, return_counts=True)\n",
        "class_balance = dict(zip(unique_classes, class_counts))\n",
        "print(\"Class balance:\", class_balance)"
      ],
      "metadata": {
        "colab": {
          "base_uri": "https://localhost:8080/"
        },
        "id": "nGBMUrpttSxP",
        "outputId": "77aa0484-8302-4007-b01a-9e6ca360fe09"
      },
      "execution_count": null,
      "outputs": [
        {
          "output_type": "stream",
          "name": "stdout",
          "text": [
            "Class balance: {0: 178, 1: 182, 2: 177, 3: 183, 4: 181, 5: 182, 6: 181, 7: 179, 8: 174, 9: 180}\n"
          ]
        }
      ]
    },
    {
      "cell_type": "markdown",
      "metadata": {
        "id": "0LTqFkCJquAi"
      },
      "source": [
        "### Step 2: Split the data into X (feautres) and Y (class)\n",
        "\n",
        "Assign the variables below to split the dataset in to X (features) and Y (target)"
      ]
    },
    {
      "cell_type": "code",
      "execution_count": null,
      "metadata": {
        "nbgrader": {
          "grade": false,
          "grade_id": "slip-feature-class",
          "locked": false,
          "schema_version": 3,
          "solution": true,
          "task": false
        },
        "id": "QH-iyckJquAi"
      },
      "outputs": [],
      "source": [
        "# Assign features and target\n",
        "X = df.data  # Features\n",
        "Y = df.target  # Target\n",
        "# Y should be target and X should be features\n",
        "#TODO: add your code here\n",
        "X = X[:200]\n",
        "Y = Y[:200]"
      ]
    },
    {
      "cell_type": "markdown",
      "metadata": {
        "nbgrader": {
          "grade": false,
          "grade_id": "cell-057d09a1cf1ca024",
          "locked": true,
          "schema_version": 3,
          "solution": false,
          "task": false
        },
        "id": "Qyr6vd-IquAi"
      },
      "source": [
        "### Step 3: Create your train/test split. Use the provided random_state.\n",
        "\n",
        "**Note**: You should use a `train_size` of 0.8, or 80%, and make sure to use the `random_state` to ensure test cases work."
      ]
    },
    {
      "cell_type": "code",
      "execution_count": null,
      "metadata": {
        "nbgrader": {
          "grade": false,
          "grade_id": "slit-train-test",
          "locked": false,
          "schema_version": 3,
          "solution": true,
          "task": false
        },
        "id": "AqNI7aqZquAi"
      },
      "outputs": [],
      "source": [
        "#TODO: add your code here\n",
        "from sklearn.model_selection import train_test_split\n",
        "\n",
        "# Create train/test split\n",
        "X_train, X_test, Y_train, Y_test = train_test_split(X, Y, train_size=0.8, random_state=42)"
      ]
    },
    {
      "cell_type": "code",
      "execution_count": null,
      "metadata": {
        "nbgrader": {
          "grade": true,
          "grade_id": "slit-train-test_test",
          "locked": true,
          "points": 2,
          "schema_version": 3,
          "solution": false,
          "task": false
        },
        "id": "eLwZC2rvquAi"
      },
      "outputs": [],
      "source": [
        "assert X_train.shape == (160, 64)\n",
        "assert Y_train.shape == (160,)\n",
        "assert X_test.shape == (40, 64)\n",
        "assert Y_test.shape == (40,)"
      ]
    },
    {
      "cell_type": "markdown",
      "metadata": {
        "nbgrader": {
          "grade": false,
          "grade_id": "cell-ed20d5db7f3ddc72",
          "locked": true,
          "schema_version": 3,
          "solution": false,
          "task": false
        },
        "id": "-FV1aUcYquAj"
      },
      "source": [
        "### Step 4: Use a [StandardScaler](https://scikit-learn.org/stable/modules/generated/sklearn.preprocessing.StandardScaler.html) to normalize the image data.\n",
        "\n",
        "Pixel data, like other data we've encountered, should often be scaled before classification. While in practice scaling image data can be more complex, in this exercise we'll continue to use the [StandardScaler](https://scikit-learn.org/stable/modules/generated/sklearn.preprocessing.StandardScaler.html).\n",
        "\n",
        "Fit the scaler only the the training X features, and then apply it to both training and test X features. We do this because in practice, we wouldn't be able to see data in the test X, so it shouldn't affect feature transformation. We therefore only use X_train for feature transformation."
      ]
    },
    {
      "cell_type": "code",
      "execution_count": null,
      "metadata": {
        "nbgrader": {
          "grade": false,
          "grade_id": "scale-data",
          "locked": false,
          "schema_version": 3,
          "solution": true,
          "task": false
        },
        "id": "kiAjNqmVquAj"
      },
      "outputs": [],
      "source": [
        "from sklearn.preprocessing import StandardScaler\n",
        "# Initialize the StandardScaler\n",
        "scaler = StandardScaler()\n",
        "\n",
        "# Fit the scaler on the training data\n",
        "scaler.fit(X_train)\n",
        "\n",
        "# Transform both the training and test data\n",
        "X_stand_train = scaler.transform(X_train)\n",
        "X_stand_test = scaler.transform(X_test)"
      ]
    },
    {
      "cell_type": "code",
      "execution_count": null,
      "metadata": {
        "colab": {
          "base_uri": "https://localhost:8080/"
        },
        "id": "Dm50h84qquAj",
        "outputId": "075ed214-493b-4da4-9d69-29d6585f9bc5"
      },
      "outputs": [
        {
          "output_type": "execute_result",
          "data": {
            "text/plain": [
              "(160, 64)"
            ]
          },
          "metadata": {},
          "execution_count": 11
        }
      ],
      "source": [
        "X_stand_train.shape"
      ]
    },
    {
      "cell_type": "code",
      "execution_count": null,
      "metadata": {
        "nbgrader": {
          "grade": true,
          "grade_id": "scale-data_test",
          "locked": true,
          "points": 4,
          "schema_version": 3,
          "solution": false,
          "task": false
        },
        "id": "bDBY2YT3quAj"
      },
      "outputs": [],
      "source": [
        "# Go through each attribute\n",
        "for i in range(X_stand_train.shape[1]):\n",
        "    # Calculate the mean of that attribute: it should be 0\n",
        "    np.testing.assert_almost_equal(np.mean(X_stand_train[:, i]), 0)\n",
        "    # Calculate the standard deviation: it should be 1\n",
        "    std = np.std(X_stand_train[:, i])\n",
        "    # However, if the std was already 0, standardization won't change that,\n",
        "    # so skip this case\n",
        "    if abs(std) < 0.01:\n",
        "        continue\n",
        "    np.testing.assert_almost_equal(std, 1)"
      ]
    },
    {
      "cell_type": "markdown",
      "metadata": {
        "nbgrader": {
          "grade": false,
          "grade_id": "cell-6451bd16b481009b",
          "locked": true,
          "schema_version": 3,
          "solution": false,
          "task": false
        },
        "id": "lw9pxzvMquAj"
      },
      "source": [
        "### Step 5:  Train an MLP with default hyperparameters.\n",
        "\n",
        "For the following, you'll be using sklearn's built in Multi-layer Perceptron classifier [MLPClassifier](https://scikit-learn.org/stable/modules/generated/sklearn.neural_network.MLPClassifier.html).\n",
        "\n",
        "Use the default hyperparams aside from `max_iter`. `max_iter` is how many iterations of training the ANN goes though until it manually stops. The default `max_iter=200` is too long for our data currently.\n",
        "\n",
        "**Use random_state as the random_states and max_iter=20**. The detault parameters will use a single hidden layer.\n",
        "\n"
      ]
    },
    {
      "cell_type": "code",
      "execution_count": null,
      "metadata": {
        "nbgrader": {
          "grade": false,
          "grade_id": "cell-4ac9e87863d5d366",
          "locked": true,
          "schema_version": 3,
          "solution": false,
          "task": false
        },
        "id": "C8Gv32z3quAk"
      },
      "outputs": [],
      "source": [
        "from sklearn.neural_network import MLPClassifier"
      ]
    },
    {
      "cell_type": "code",
      "execution_count": null,
      "metadata": {
        "nbgrader": {
          "grade": false,
          "grade_id": "mlp-train",
          "locked": false,
          "schema_version": 3,
          "solution": true,
          "task": false
        },
        "scrolled": true,
        "colab": {
          "base_uri": "https://localhost:8080/",
          "height": 443
        },
        "id": "IYUm9cshquAk",
        "outputId": "e57ef421-304c-469f-b425-3777112fe5c2"
      },
      "outputs": [
        {
          "output_type": "stream",
          "name": "stdout",
          "text": [
            "Iteration 1, loss = 2.72340110\n",
            "Iteration 2, loss = 2.61722937\n",
            "Iteration 3, loss = 2.51331744\n",
            "Iteration 4, loss = 2.41173375\n",
            "Iteration 5, loss = 2.31250102\n",
            "Iteration 6, loss = 2.21554103\n",
            "Iteration 7, loss = 2.12100080\n",
            "Iteration 8, loss = 2.02899668\n",
            "Iteration 9, loss = 1.93964810\n",
            "Iteration 10, loss = 1.85290300\n",
            "Iteration 11, loss = 1.76901269\n",
            "Iteration 12, loss = 1.68775698\n",
            "Iteration 13, loss = 1.60922366\n",
            "Iteration 14, loss = 1.53361925\n",
            "Iteration 15, loss = 1.46082174\n",
            "Iteration 16, loss = 1.39076614\n",
            "Iteration 17, loss = 1.32358090\n",
            "Iteration 18, loss = 1.25908195\n",
            "Iteration 19, loss = 1.19745453\n",
            "Iteration 20, loss = 1.13851469\n"
          ]
        },
        {
          "output_type": "execute_result",
          "data": {
            "text/plain": [
              "MLPClassifier(max_iter=20, random_state=42, verbose=True)"
            ],
            "text/html": [
              "<style>#sk-container-id-1 {\n",
              "  /* Definition of color scheme common for light and dark mode */\n",
              "  --sklearn-color-text: black;\n",
              "  --sklearn-color-line: gray;\n",
              "  /* Definition of color scheme for unfitted estimators */\n",
              "  --sklearn-color-unfitted-level-0: #fff5e6;\n",
              "  --sklearn-color-unfitted-level-1: #f6e4d2;\n",
              "  --sklearn-color-unfitted-level-2: #ffe0b3;\n",
              "  --sklearn-color-unfitted-level-3: chocolate;\n",
              "  /* Definition of color scheme for fitted estimators */\n",
              "  --sklearn-color-fitted-level-0: #f0f8ff;\n",
              "  --sklearn-color-fitted-level-1: #d4ebff;\n",
              "  --sklearn-color-fitted-level-2: #b3dbfd;\n",
              "  --sklearn-color-fitted-level-3: cornflowerblue;\n",
              "\n",
              "  /* Specific color for light theme */\n",
              "  --sklearn-color-text-on-default-background: var(--sg-text-color, var(--theme-code-foreground, var(--jp-content-font-color1, black)));\n",
              "  --sklearn-color-background: var(--sg-background-color, var(--theme-background, var(--jp-layout-color0, white)));\n",
              "  --sklearn-color-border-box: var(--sg-text-color, var(--theme-code-foreground, var(--jp-content-font-color1, black)));\n",
              "  --sklearn-color-icon: #696969;\n",
              "\n",
              "  @media (prefers-color-scheme: dark) {\n",
              "    /* Redefinition of color scheme for dark theme */\n",
              "    --sklearn-color-text-on-default-background: var(--sg-text-color, var(--theme-code-foreground, var(--jp-content-font-color1, white)));\n",
              "    --sklearn-color-background: var(--sg-background-color, var(--theme-background, var(--jp-layout-color0, #111)));\n",
              "    --sklearn-color-border-box: var(--sg-text-color, var(--theme-code-foreground, var(--jp-content-font-color1, white)));\n",
              "    --sklearn-color-icon: #878787;\n",
              "  }\n",
              "}\n",
              "\n",
              "#sk-container-id-1 {\n",
              "  color: var(--sklearn-color-text);\n",
              "}\n",
              "\n",
              "#sk-container-id-1 pre {\n",
              "  padding: 0;\n",
              "}\n",
              "\n",
              "#sk-container-id-1 input.sk-hidden--visually {\n",
              "  border: 0;\n",
              "  clip: rect(1px 1px 1px 1px);\n",
              "  clip: rect(1px, 1px, 1px, 1px);\n",
              "  height: 1px;\n",
              "  margin: -1px;\n",
              "  overflow: hidden;\n",
              "  padding: 0;\n",
              "  position: absolute;\n",
              "  width: 1px;\n",
              "}\n",
              "\n",
              "#sk-container-id-1 div.sk-dashed-wrapped {\n",
              "  border: 1px dashed var(--sklearn-color-line);\n",
              "  margin: 0 0.4em 0.5em 0.4em;\n",
              "  box-sizing: border-box;\n",
              "  padding-bottom: 0.4em;\n",
              "  background-color: var(--sklearn-color-background);\n",
              "}\n",
              "\n",
              "#sk-container-id-1 div.sk-container {\n",
              "  /* jupyter's `normalize.less` sets `[hidden] { display: none; }`\n",
              "     but bootstrap.min.css set `[hidden] { display: none !important; }`\n",
              "     so we also need the `!important` here to be able to override the\n",
              "     default hidden behavior on the sphinx rendered scikit-learn.org.\n",
              "     See: https://github.com/scikit-learn/scikit-learn/issues/21755 */\n",
              "  display: inline-block !important;\n",
              "  position: relative;\n",
              "}\n",
              "\n",
              "#sk-container-id-1 div.sk-text-repr-fallback {\n",
              "  display: none;\n",
              "}\n",
              "\n",
              "div.sk-parallel-item,\n",
              "div.sk-serial,\n",
              "div.sk-item {\n",
              "  /* draw centered vertical line to link estimators */\n",
              "  background-image: linear-gradient(var(--sklearn-color-text-on-default-background), var(--sklearn-color-text-on-default-background));\n",
              "  background-size: 2px 100%;\n",
              "  background-repeat: no-repeat;\n",
              "  background-position: center center;\n",
              "}\n",
              "\n",
              "/* Parallel-specific style estimator block */\n",
              "\n",
              "#sk-container-id-1 div.sk-parallel-item::after {\n",
              "  content: \"\";\n",
              "  width: 100%;\n",
              "  border-bottom: 2px solid var(--sklearn-color-text-on-default-background);\n",
              "  flex-grow: 1;\n",
              "}\n",
              "\n",
              "#sk-container-id-1 div.sk-parallel {\n",
              "  display: flex;\n",
              "  align-items: stretch;\n",
              "  justify-content: center;\n",
              "  background-color: var(--sklearn-color-background);\n",
              "  position: relative;\n",
              "}\n",
              "\n",
              "#sk-container-id-1 div.sk-parallel-item {\n",
              "  display: flex;\n",
              "  flex-direction: column;\n",
              "}\n",
              "\n",
              "#sk-container-id-1 div.sk-parallel-item:first-child::after {\n",
              "  align-self: flex-end;\n",
              "  width: 50%;\n",
              "}\n",
              "\n",
              "#sk-container-id-1 div.sk-parallel-item:last-child::after {\n",
              "  align-self: flex-start;\n",
              "  width: 50%;\n",
              "}\n",
              "\n",
              "#sk-container-id-1 div.sk-parallel-item:only-child::after {\n",
              "  width: 0;\n",
              "}\n",
              "\n",
              "/* Serial-specific style estimator block */\n",
              "\n",
              "#sk-container-id-1 div.sk-serial {\n",
              "  display: flex;\n",
              "  flex-direction: column;\n",
              "  align-items: center;\n",
              "  background-color: var(--sklearn-color-background);\n",
              "  padding-right: 1em;\n",
              "  padding-left: 1em;\n",
              "}\n",
              "\n",
              "\n",
              "/* Toggleable style: style used for estimator/Pipeline/ColumnTransformer box that is\n",
              "clickable and can be expanded/collapsed.\n",
              "- Pipeline and ColumnTransformer use this feature and define the default style\n",
              "- Estimators will overwrite some part of the style using the `sk-estimator` class\n",
              "*/\n",
              "\n",
              "/* Pipeline and ColumnTransformer style (default) */\n",
              "\n",
              "#sk-container-id-1 div.sk-toggleable {\n",
              "  /* Default theme specific background. It is overwritten whether we have a\n",
              "  specific estimator or a Pipeline/ColumnTransformer */\n",
              "  background-color: var(--sklearn-color-background);\n",
              "}\n",
              "\n",
              "/* Toggleable label */\n",
              "#sk-container-id-1 label.sk-toggleable__label {\n",
              "  cursor: pointer;\n",
              "  display: block;\n",
              "  width: 100%;\n",
              "  margin-bottom: 0;\n",
              "  padding: 0.5em;\n",
              "  box-sizing: border-box;\n",
              "  text-align: center;\n",
              "}\n",
              "\n",
              "#sk-container-id-1 label.sk-toggleable__label-arrow:before {\n",
              "  /* Arrow on the left of the label */\n",
              "  content: \"▸\";\n",
              "  float: left;\n",
              "  margin-right: 0.25em;\n",
              "  color: var(--sklearn-color-icon);\n",
              "}\n",
              "\n",
              "#sk-container-id-1 label.sk-toggleable__label-arrow:hover:before {\n",
              "  color: var(--sklearn-color-text);\n",
              "}\n",
              "\n",
              "/* Toggleable content - dropdown */\n",
              "\n",
              "#sk-container-id-1 div.sk-toggleable__content {\n",
              "  max-height: 0;\n",
              "  max-width: 0;\n",
              "  overflow: hidden;\n",
              "  text-align: left;\n",
              "  /* unfitted */\n",
              "  background-color: var(--sklearn-color-unfitted-level-0);\n",
              "}\n",
              "\n",
              "#sk-container-id-1 div.sk-toggleable__content.fitted {\n",
              "  /* fitted */\n",
              "  background-color: var(--sklearn-color-fitted-level-0);\n",
              "}\n",
              "\n",
              "#sk-container-id-1 div.sk-toggleable__content pre {\n",
              "  margin: 0.2em;\n",
              "  border-radius: 0.25em;\n",
              "  color: var(--sklearn-color-text);\n",
              "  /* unfitted */\n",
              "  background-color: var(--sklearn-color-unfitted-level-0);\n",
              "}\n",
              "\n",
              "#sk-container-id-1 div.sk-toggleable__content.fitted pre {\n",
              "  /* unfitted */\n",
              "  background-color: var(--sklearn-color-fitted-level-0);\n",
              "}\n",
              "\n",
              "#sk-container-id-1 input.sk-toggleable__control:checked~div.sk-toggleable__content {\n",
              "  /* Expand drop-down */\n",
              "  max-height: 200px;\n",
              "  max-width: 100%;\n",
              "  overflow: auto;\n",
              "}\n",
              "\n",
              "#sk-container-id-1 input.sk-toggleable__control:checked~label.sk-toggleable__label-arrow:before {\n",
              "  content: \"▾\";\n",
              "}\n",
              "\n",
              "/* Pipeline/ColumnTransformer-specific style */\n",
              "\n",
              "#sk-container-id-1 div.sk-label input.sk-toggleable__control:checked~label.sk-toggleable__label {\n",
              "  color: var(--sklearn-color-text);\n",
              "  background-color: var(--sklearn-color-unfitted-level-2);\n",
              "}\n",
              "\n",
              "#sk-container-id-1 div.sk-label.fitted input.sk-toggleable__control:checked~label.sk-toggleable__label {\n",
              "  background-color: var(--sklearn-color-fitted-level-2);\n",
              "}\n",
              "\n",
              "/* Estimator-specific style */\n",
              "\n",
              "/* Colorize estimator box */\n",
              "#sk-container-id-1 div.sk-estimator input.sk-toggleable__control:checked~label.sk-toggleable__label {\n",
              "  /* unfitted */\n",
              "  background-color: var(--sklearn-color-unfitted-level-2);\n",
              "}\n",
              "\n",
              "#sk-container-id-1 div.sk-estimator.fitted input.sk-toggleable__control:checked~label.sk-toggleable__label {\n",
              "  /* fitted */\n",
              "  background-color: var(--sklearn-color-fitted-level-2);\n",
              "}\n",
              "\n",
              "#sk-container-id-1 div.sk-label label.sk-toggleable__label,\n",
              "#sk-container-id-1 div.sk-label label {\n",
              "  /* The background is the default theme color */\n",
              "  color: var(--sklearn-color-text-on-default-background);\n",
              "}\n",
              "\n",
              "/* On hover, darken the color of the background */\n",
              "#sk-container-id-1 div.sk-label:hover label.sk-toggleable__label {\n",
              "  color: var(--sklearn-color-text);\n",
              "  background-color: var(--sklearn-color-unfitted-level-2);\n",
              "}\n",
              "\n",
              "/* Label box, darken color on hover, fitted */\n",
              "#sk-container-id-1 div.sk-label.fitted:hover label.sk-toggleable__label.fitted {\n",
              "  color: var(--sklearn-color-text);\n",
              "  background-color: var(--sklearn-color-fitted-level-2);\n",
              "}\n",
              "\n",
              "/* Estimator label */\n",
              "\n",
              "#sk-container-id-1 div.sk-label label {\n",
              "  font-family: monospace;\n",
              "  font-weight: bold;\n",
              "  display: inline-block;\n",
              "  line-height: 1.2em;\n",
              "}\n",
              "\n",
              "#sk-container-id-1 div.sk-label-container {\n",
              "  text-align: center;\n",
              "}\n",
              "\n",
              "/* Estimator-specific */\n",
              "#sk-container-id-1 div.sk-estimator {\n",
              "  font-family: monospace;\n",
              "  border: 1px dotted var(--sklearn-color-border-box);\n",
              "  border-radius: 0.25em;\n",
              "  box-sizing: border-box;\n",
              "  margin-bottom: 0.5em;\n",
              "  /* unfitted */\n",
              "  background-color: var(--sklearn-color-unfitted-level-0);\n",
              "}\n",
              "\n",
              "#sk-container-id-1 div.sk-estimator.fitted {\n",
              "  /* fitted */\n",
              "  background-color: var(--sklearn-color-fitted-level-0);\n",
              "}\n",
              "\n",
              "/* on hover */\n",
              "#sk-container-id-1 div.sk-estimator:hover {\n",
              "  /* unfitted */\n",
              "  background-color: var(--sklearn-color-unfitted-level-2);\n",
              "}\n",
              "\n",
              "#sk-container-id-1 div.sk-estimator.fitted:hover {\n",
              "  /* fitted */\n",
              "  background-color: var(--sklearn-color-fitted-level-2);\n",
              "}\n",
              "\n",
              "/* Specification for estimator info (e.g. \"i\" and \"?\") */\n",
              "\n",
              "/* Common style for \"i\" and \"?\" */\n",
              "\n",
              ".sk-estimator-doc-link,\n",
              "a:link.sk-estimator-doc-link,\n",
              "a:visited.sk-estimator-doc-link {\n",
              "  float: right;\n",
              "  font-size: smaller;\n",
              "  line-height: 1em;\n",
              "  font-family: monospace;\n",
              "  background-color: var(--sklearn-color-background);\n",
              "  border-radius: 1em;\n",
              "  height: 1em;\n",
              "  width: 1em;\n",
              "  text-decoration: none !important;\n",
              "  margin-left: 1ex;\n",
              "  /* unfitted */\n",
              "  border: var(--sklearn-color-unfitted-level-1) 1pt solid;\n",
              "  color: var(--sklearn-color-unfitted-level-1);\n",
              "}\n",
              "\n",
              ".sk-estimator-doc-link.fitted,\n",
              "a:link.sk-estimator-doc-link.fitted,\n",
              "a:visited.sk-estimator-doc-link.fitted {\n",
              "  /* fitted */\n",
              "  border: var(--sklearn-color-fitted-level-1) 1pt solid;\n",
              "  color: var(--sklearn-color-fitted-level-1);\n",
              "}\n",
              "\n",
              "/* On hover */\n",
              "div.sk-estimator:hover .sk-estimator-doc-link:hover,\n",
              ".sk-estimator-doc-link:hover,\n",
              "div.sk-label-container:hover .sk-estimator-doc-link:hover,\n",
              ".sk-estimator-doc-link:hover {\n",
              "  /* unfitted */\n",
              "  background-color: var(--sklearn-color-unfitted-level-3);\n",
              "  color: var(--sklearn-color-background);\n",
              "  text-decoration: none;\n",
              "}\n",
              "\n",
              "div.sk-estimator.fitted:hover .sk-estimator-doc-link.fitted:hover,\n",
              ".sk-estimator-doc-link.fitted:hover,\n",
              "div.sk-label-container:hover .sk-estimator-doc-link.fitted:hover,\n",
              ".sk-estimator-doc-link.fitted:hover {\n",
              "  /* fitted */\n",
              "  background-color: var(--sklearn-color-fitted-level-3);\n",
              "  color: var(--sklearn-color-background);\n",
              "  text-decoration: none;\n",
              "}\n",
              "\n",
              "/* Span, style for the box shown on hovering the info icon */\n",
              ".sk-estimator-doc-link span {\n",
              "  display: none;\n",
              "  z-index: 9999;\n",
              "  position: relative;\n",
              "  font-weight: normal;\n",
              "  right: .2ex;\n",
              "  padding: .5ex;\n",
              "  margin: .5ex;\n",
              "  width: min-content;\n",
              "  min-width: 20ex;\n",
              "  max-width: 50ex;\n",
              "  color: var(--sklearn-color-text);\n",
              "  box-shadow: 2pt 2pt 4pt #999;\n",
              "  /* unfitted */\n",
              "  background: var(--sklearn-color-unfitted-level-0);\n",
              "  border: .5pt solid var(--sklearn-color-unfitted-level-3);\n",
              "}\n",
              "\n",
              ".sk-estimator-doc-link.fitted span {\n",
              "  /* fitted */\n",
              "  background: var(--sklearn-color-fitted-level-0);\n",
              "  border: var(--sklearn-color-fitted-level-3);\n",
              "}\n",
              "\n",
              ".sk-estimator-doc-link:hover span {\n",
              "  display: block;\n",
              "}\n",
              "\n",
              "/* \"?\"-specific style due to the `<a>` HTML tag */\n",
              "\n",
              "#sk-container-id-1 a.estimator_doc_link {\n",
              "  float: right;\n",
              "  font-size: 1rem;\n",
              "  line-height: 1em;\n",
              "  font-family: monospace;\n",
              "  background-color: var(--sklearn-color-background);\n",
              "  border-radius: 1rem;\n",
              "  height: 1rem;\n",
              "  width: 1rem;\n",
              "  text-decoration: none;\n",
              "  /* unfitted */\n",
              "  color: var(--sklearn-color-unfitted-level-1);\n",
              "  border: var(--sklearn-color-unfitted-level-1) 1pt solid;\n",
              "}\n",
              "\n",
              "#sk-container-id-1 a.estimator_doc_link.fitted {\n",
              "  /* fitted */\n",
              "  border: var(--sklearn-color-fitted-level-1) 1pt solid;\n",
              "  color: var(--sklearn-color-fitted-level-1);\n",
              "}\n",
              "\n",
              "/* On hover */\n",
              "#sk-container-id-1 a.estimator_doc_link:hover {\n",
              "  /* unfitted */\n",
              "  background-color: var(--sklearn-color-unfitted-level-3);\n",
              "  color: var(--sklearn-color-background);\n",
              "  text-decoration: none;\n",
              "}\n",
              "\n",
              "#sk-container-id-1 a.estimator_doc_link.fitted:hover {\n",
              "  /* fitted */\n",
              "  background-color: var(--sklearn-color-fitted-level-3);\n",
              "}\n",
              "</style><div id=\"sk-container-id-1\" class=\"sk-top-container\"><div class=\"sk-text-repr-fallback\"><pre>MLPClassifier(max_iter=20, random_state=42, verbose=True)</pre><b>In a Jupyter environment, please rerun this cell to show the HTML representation or trust the notebook. <br />On GitHub, the HTML representation is unable to render, please try loading this page with nbviewer.org.</b></div><div class=\"sk-container\" hidden><div class=\"sk-item\"><div class=\"sk-estimator fitted sk-toggleable\"><input class=\"sk-toggleable__control sk-hidden--visually\" id=\"sk-estimator-id-1\" type=\"checkbox\" checked><label for=\"sk-estimator-id-1\" class=\"sk-toggleable__label fitted sk-toggleable__label-arrow fitted\">&nbsp;&nbsp;MLPClassifier<a class=\"sk-estimator-doc-link fitted\" rel=\"noreferrer\" target=\"_blank\" href=\"https://scikit-learn.org/1.5/modules/generated/sklearn.neural_network.MLPClassifier.html\">?<span>Documentation for MLPClassifier</span></a><span class=\"sk-estimator-doc-link fitted\">i<span>Fitted</span></span></label><div class=\"sk-toggleable__content fitted\"><pre>MLPClassifier(max_iter=20, random_state=42, verbose=True)</pre></div> </div></div></div></div>"
            ]
          },
          "metadata": {},
          "execution_count": 15
        }
      ],
      "source": [
        "# Initialize the MLPClassifier with specified parameters\n",
        "clf = MLPClassifier(max_iter=20, random_state=42, verbose=True)\n",
        "\n",
        "# Fit the model on the standardized training data\n",
        "clf.fit(X_stand_train, Y_train)"
      ]
    },
    {
      "cell_type": "markdown",
      "metadata": {
        "nbgrader": {
          "grade": false,
          "grade_id": "cell-2722a12a4e946191",
          "locked": true,
          "schema_version": 3,
          "solution": false,
          "task": false
        },
        "id": "y_lLt62PquAk"
      },
      "source": [
        "### Step 6:  Evaluate the model on the test dataset using a confusion matrix and a classification report\n",
        "\n",
        "Like all classifiers, the MLP has a [`predict`](https://scikit-learn.org/stable/modules/generated/sklearn.neural_network.MLPClassifier.html#sklearn.neural_network.MLPClassifier.predict) function that is used to make predictions on trianing or test data."
      ]
    },
    {
      "cell_type": "code",
      "execution_count": null,
      "metadata": {
        "nbgrader": {
          "grade": false,
          "grade_id": "cell-5292fd4b6c7cdc73",
          "locked": true,
          "schema_version": 3,
          "solution": false,
          "task": false
        },
        "id": "WBk3MguKquAk"
      },
      "outputs": [],
      "source": [
        "from sklearn.metrics import confusion_matrix\n",
        "from sklearn.metrics import classification_report"
      ]
    },
    {
      "cell_type": "code",
      "execution_count": null,
      "metadata": {
        "nbgrader": {
          "grade": false,
          "grade_id": "mlp-confusion-matrix",
          "locked": false,
          "schema_version": 3,
          "solution": true,
          "task": false
        },
        "colab": {
          "base_uri": "https://localhost:8080/"
        },
        "id": "p6EbkgURquAk",
        "outputId": "0cc12595-f333-43a7-a5d2-7a2eba9d203d"
      },
      "outputs": [
        {
          "output_type": "execute_result",
          "data": {
            "text/plain": [
              "array([[4, 0, 0, 0, 0, 0, 0, 0, 0, 0],\n",
              "       [0, 4, 0, 0, 0, 0, 0, 0, 0, 0],\n",
              "       [0, 0, 4, 0, 0, 0, 0, 0, 1, 0],\n",
              "       [0, 0, 0, 1, 0, 0, 0, 0, 0, 1],\n",
              "       [0, 0, 0, 0, 2, 0, 0, 0, 0, 0],\n",
              "       [0, 0, 0, 0, 0, 3, 0, 0, 0, 0],\n",
              "       [2, 0, 2, 0, 0, 1, 1, 0, 0, 2],\n",
              "       [0, 0, 0, 1, 0, 0, 0, 2, 0, 0],\n",
              "       [0, 0, 0, 0, 1, 2, 0, 0, 0, 2],\n",
              "       [0, 0, 1, 0, 0, 1, 0, 0, 1, 1]])"
            ]
          },
          "metadata": {},
          "execution_count": 18
        }
      ],
      "source": [
        "# Evaluate the classifier and assign mlp_cm to the confusion matrix of the evaluation\n",
        "# Make predictions on the standardized test data\n",
        "Y_pred = clf.predict(X_stand_test)\n",
        "\n",
        "mlp_cm = confusion_matrix(Y_test, Y_pred)\n",
        "#TODO: add your code here\n",
        "mlp_cm"
      ]
    },
    {
      "cell_type": "code",
      "execution_count": null,
      "metadata": {
        "nbgrader": {
          "grade": true,
          "grade_id": "mlp-confusion-matrix_test",
          "locked": true,
          "points": 2,
          "schema_version": 3,
          "solution": false,
          "task": false
        },
        "id": "8QS46wZtquAk"
      },
      "outputs": [],
      "source": [
        "np.testing.assert_almost_equal(mlp_cm, [[4, 0, 0, 0, 0, 0, 0, 0, 0, 0],\n",
        "       [0, 4, 0, 0, 0, 0, 0, 0, 0, 0],\n",
        "       [0, 0, 4, 0, 0, 0, 0, 0, 1, 0],\n",
        "       [0, 0, 0, 1, 0, 0, 0, 0, 0, 1],\n",
        "       [0, 0, 0, 0, 2, 0, 0, 0, 0, 0],\n",
        "       [0, 0, 0, 0, 0, 3, 0, 0, 0, 0],\n",
        "       [2, 0, 2, 0, 0, 1, 1, 0, 0, 2],\n",
        "       [0, 0, 0, 1, 0, 0, 0, 2, 0, 0],\n",
        "       [0, 0, 0, 0, 1, 2, 0, 0, 0, 2],\n",
        "       [0, 0, 1, 0, 0, 1, 0, 0, 1, 1]])"
      ]
    },
    {
      "cell_type": "code",
      "execution_count": null,
      "metadata": {
        "nbgrader": {
          "grade": false,
          "grade_id": "mlp-report",
          "locked": false,
          "schema_version": 3,
          "solution": true,
          "task": false
        },
        "colab": {
          "base_uri": "https://localhost:8080/"
        },
        "id": "FOFBktd7quAl",
        "outputId": "bd52d269-e55c-4cdb-9665-62abdb827d82"
      },
      "outputs": [
        {
          "output_type": "stream",
          "name": "stdout",
          "text": [
            "              precision    recall  f1-score   support\n",
            "\n",
            "           0       0.67      1.00      0.80         4\n",
            "           1       1.00      1.00      1.00         4\n",
            "           2       0.57      0.80      0.67         5\n",
            "           3       0.50      0.50      0.50         2\n",
            "           4       0.67      1.00      0.80         2\n",
            "           5       0.43      1.00      0.60         3\n",
            "           6       1.00      0.12      0.22         8\n",
            "           7       1.00      0.67      0.80         3\n",
            "           8       0.00      0.00      0.00         5\n",
            "           9       0.17      0.25      0.20         4\n",
            "\n",
            "    accuracy                           0.55        40\n",
            "   macro avg       0.60      0.63      0.56        40\n",
            "weighted avg       0.62      0.55      0.50        40\n",
            "\n"
          ]
        }
      ],
      "source": [
        "# Similarly generate a classification report for the test dataset\n",
        "mlp_clf_report = classification_report(Y_test, Y_pred)\n",
        "#TODO: add your code here\n",
        "print(mlp_clf_report)"
      ]
    },
    {
      "cell_type": "code",
      "execution_count": null,
      "metadata": {
        "nbgrader": {
          "grade": true,
          "grade_id": "mlp-report_test",
          "locked": true,
          "points": 2,
          "schema_version": 3,
          "solution": false,
          "task": false
        },
        "id": "gv3Sr8baquAl"
      },
      "outputs": [],
      "source": [
        "assert mlp_clf_report == classification_report(Y_test, clf.predict(X_stand_test))"
      ]
    },
    {
      "cell_type": "code",
      "execution_count": null,
      "metadata": {
        "nbgrader": {
          "grade": false,
          "grade_id": "mlp-report-train",
          "locked": false,
          "schema_version": 3,
          "solution": true,
          "task": false
        },
        "scrolled": true,
        "colab": {
          "base_uri": "https://localhost:8080/"
        },
        "id": "bQGbw8GXquAl",
        "outputId": "a7476131-b020-4842-d0e3-b35d72def87b"
      },
      "outputs": [
        {
          "output_type": "stream",
          "name": "stdout",
          "text": [
            "              precision    recall  f1-score   support\n",
            "\n",
            "           0       0.89      0.94      0.91        17\n",
            "           1       0.93      0.87      0.90        15\n",
            "           2       0.67      0.67      0.67        15\n",
            "           3       1.00      0.95      0.97        19\n",
            "           4       0.82      0.82      0.82        17\n",
            "           5       0.89      0.94      0.91        17\n",
            "           6       0.92      0.92      0.92        13\n",
            "           7       0.94      1.00      0.97        17\n",
            "           8       0.80      0.29      0.42        14\n",
            "           9       0.67      1.00      0.80        16\n",
            "\n",
            "    accuracy                           0.85       160\n",
            "   macro avg       0.85      0.84      0.83       160\n",
            "weighted avg       0.86      0.85      0.84       160\n",
            "\n"
          ]
        }
      ],
      "source": [
        "# Make predictions on the standardized training data\n",
        "Y_train_pred = clf.predict(X_stand_train)\n",
        "\n",
        "# Generate the classification report for the training dataset\n",
        "mlp_clf_report = classification_report(Y_train, Y_train_pred)\n",
        "\n",
        "#TODO: add your code here\n",
        "print(mlp_clf_report)"
      ]
    },
    {
      "cell_type": "code",
      "execution_count": null,
      "metadata": {
        "nbgrader": {
          "grade": true,
          "grade_id": "mlp-report-train-public",
          "locked": true,
          "points": 2,
          "schema_version": 3,
          "solution": false,
          "task": false
        },
        "id": "2zjNttr5quAl"
      },
      "outputs": [],
      "source": [
        "assert mlp_clf_report == '              precision    recall  f1-score   support\\n\\n           0       0.89      0.94      0.91        17\\n           1       0.93      0.87      0.90        15\\n           2       0.67      0.67      0.67        15\\n           3       1.00      0.95      0.97        19\\n           4       0.82      0.82      0.82        17\\n           5       0.89      0.94      0.91        17\\n           6       0.92      0.92      0.92        13\\n           7       0.94      1.00      0.97        17\\n           8       0.80      0.29      0.42        14\\n           9       0.67      1.00      0.80        16\\n\\n    accuracy                           0.85       160\\n   macro avg       0.85      0.84      0.83       160\\nweighted avg       0.86      0.85      0.84       160\\n'\n"
      ]
    },
    {
      "cell_type": "markdown",
      "metadata": {
        "nbgrader": {
          "grade": false,
          "grade_id": "cell-8915072f0111304b",
          "locked": true,
          "schema_version": 3,
          "solution": false,
          "task": false
        },
        "id": "QhRjQ291quAm"
      },
      "source": [
        "How well did the classifier do? What digit did it do best on? Which digits did it confuse the most? Do you think the classifier is likely over-fitting, underfitting or neither?"
      ]
    },
    {
      "cell_type": "markdown",
      "metadata": {
        "id": "l1o0TL9GquAm"
      },
      "source": [
        "Based on the provided classification report:\n",
        "\n",
        "The classifier does well overall, with an accuracy of 85%.\n",
        "\n",
        "It performs best on digit 3 and struggles with digit 8.\n",
        "\n",
        "The potential confusion between digits may suggest areas for improvement, such as collecting more training data for the digits that are confused or using techniques like data augmentation.\n",
        "\n",
        "To determine if the classifier is overfitting or underfitting, you would need to compare the performance metrics (precision, recall, f1-score) of the training dataset against those of the test dataset. If the training scores are significantly higher than the test scores, it may indicate overfitting. If both are low, it may indicate underfitting. If they are relatively close and both are acceptable, the model is likely well-fitted."
      ]
    },
    {
      "cell_type": "markdown",
      "metadata": {
        "nbgrader": {
          "grade": false,
          "grade_id": "cell-5d631135dc57ee3e",
          "locked": true,
          "schema_version": 3,
          "solution": false,
          "task": false
        },
        "id": "d3gSmMmrquAm"
      },
      "source": [
        "## 3) Hyperparameters"
      ]
    },
    {
      "cell_type": "markdown",
      "metadata": {
        "nbgrader": {
          "grade": false,
          "grade_id": "cell-2525c741f9cb9464",
          "locked": true,
          "schema_version": 3,
          "solution": false,
          "task": false
        },
        "id": "9scVN2crquAm"
      },
      "source": [
        "**Hyperparams**:\n",
        "\n",
        "ANNs have *a lot* of hyperparams. This can include simple things such as the number of layers and nodes, up to tuning the learning rate and the gradient descent algorithm used.\n",
        "\n",
        "This process can require a lot of experimentation and intution through experience, but it can be automated to some extent using hyperparameter tuning. When we have multiple hyperparameters, we use an approach called GridSearch, where we try all combinations of various hyperparameters to find the combination that works best.\n",
        "\n",
        "For the following, you will practice the hyperparamater tuning for the [MLPClassifier](https://scikit-learn.org/stable/modules/generated/sklearn.neural_network.MLPClassifier.html) with sklearn's [GridSearchCV](https://scikit-learn.org/stable/modules/generated/sklearn.model_selection.GridSearchCV.html) function, you should explore different combination of the following parameters:\n",
        "\n",
        "* `activation`: The activation function of the the ANN. Defaults to ReLU.\n",
        "* `max_iter`: The ANN will train iterations until either the loss stops improving by a specified threshold, or `max_iters` is reached. Warning: the more you increase this, the more the training time will take! Patience is a virtue.\n",
        "* `hidden_layer_sizes`: A tuple representing the structure of the hidden layers. For example, giving the tuple `(100,50)` means that there's two hidden layers: the first being of size 100, and the second being of size 50. The tuple (100,) would mean a single hidden layer of size 100.\n",
        "\n",
        "Normally we would try many more possible combinations (and larger networks), but we've kept the list short to reduce computation time.\n",
        "\n",
        "**Try different permutations of these hyperprams and see how it affects the classification scores of your model.**"
      ]
    },
    {
      "cell_type": "code",
      "execution_count": null,
      "metadata": {
        "nbgrader": {
          "grade": false,
          "grade_id": "cell-a25db6b11a11edba",
          "locked": true,
          "schema_version": 3,
          "solution": false,
          "task": false
        },
        "id": "PZ5Pik-0quAm"
      },
      "outputs": [],
      "source": [
        "# import the library\n",
        "from sklearn.model_selection import GridSearchCV"
      ]
    },
    {
      "cell_type": "code",
      "execution_count": null,
      "metadata": {
        "nbgrader": {
          "grade": false,
          "grade_id": "cell-783ed3693fc71b1d",
          "locked": true,
          "schema_version": 3,
          "solution": false,
          "task": false
        },
        "id": "3naZcCnXquAn"
      },
      "outputs": [],
      "source": [
        "# The parameter list you will explore\n",
        "parameters = {'activation':['logistic', 'relu'], 'max_iter':[5, 10], 'hidden_layer_sizes':[(50,),(20,)]}"
      ]
    },
    {
      "cell_type": "markdown",
      "metadata": {
        "nbgrader": {
          "grade": false,
          "grade_id": "cell-e9071631cfc9a1dc",
          "locked": true,
          "schema_version": 3,
          "solution": false,
          "task": false
        },
        "id": "mzfIAdC6quAn"
      },
      "source": [
        "Now it's your turn, first initialize an MLPClassifier, make sure to **use \"random_state\" as the random_states**, then feed the parameter list defined above as well as the training data (**use \"X_stand_train\"**) to GridSearchCV to create a classifier with the best combination of the parameters. To do so, it uses cross-validation within the training dataset, so you never have to peek at your test dataset. Then fit the final classifier to the whole standardized training dataset.\n",
        "\n",
        "**Note**: You should use cv=2 in your grid search, to reduce the number of folds tested."
      ]
    },
    {
      "cell_type": "code",
      "execution_count": 26,
      "metadata": {
        "nbgrader": {
          "grade": false,
          "grade_id": "hyper_tuning_ans",
          "locked": false,
          "schema_version": 3,
          "solution": true,
          "task": false
        },
        "id": "SIyaAfDAquAn",
        "colab": {
          "base_uri": "https://localhost:8080/"
        },
        "outputId": "e41bd903-562e-4bb3-f97f-3d1839c3bddb"
      },
      "outputs": [
        {
          "output_type": "stream",
          "name": "stdout",
          "text": [
            "Iteration 1, loss = 2.40983495\n",
            "Iteration 2, loss = 2.38814830\n",
            "Iteration 3, loss = 2.36706680\n",
            "Iteration 4, loss = 2.34659747\n",
            "Iteration 5, loss = 2.32674102\n",
            "Iteration 1, loss = 2.40170037\n",
            "Iteration 2, loss = 2.37934387\n",
            "Iteration 3, loss = 2.35759411\n",
            "Iteration 4, loss = 2.33646062\n",
            "Iteration 5, loss = 2.31594420\n",
            "Iteration 1, loss = 2.40983495\n",
            "Iteration 2, loss = 2.38814830\n",
            "Iteration 3, loss = 2.36706680\n",
            "Iteration 4, loss = 2.34659747\n",
            "Iteration 5, loss = 2.32674102\n",
            "Iteration 6, loss = 2.30748910\n",
            "Iteration 7, loss = 2.28882764\n",
            "Iteration 8, loss = 2.27073754\n",
            "Iteration 9, loss = 2.25319408\n",
            "Iteration 10, loss = 2.23616722\n",
            "Iteration 1, loss = 2.40170037\n",
            "Iteration 2, loss = 2.37934387\n",
            "Iteration 3, loss = 2.35759411\n",
            "Iteration 4, loss = 2.33646062\n",
            "Iteration 5, loss = 2.31594420\n",
            "Iteration 6, loss = 2.29603676\n",
            "Iteration 7, loss = 2.27672250\n",
            "Iteration 8, loss = 2.25797952\n",
            "Iteration 9, loss = 2.23978102\n",
            "Iteration 10, loss = 2.22209640\n",
            "Iteration 1, loss = 2.38036297\n",
            "Iteration 2, loss = 2.37023213\n",
            "Iteration 3, loss = 2.36020681\n",
            "Iteration 4, loss = 2.35028901\n",
            "Iteration 5, loss = 2.34048123\n",
            "Iteration 1, loss = 2.36281718\n",
            "Iteration 2, loss = 2.35281507\n",
            "Iteration 3, loss = 2.34290835\n",
            "Iteration 4, loss = 2.33309752\n",
            "Iteration 5, loss = 2.32338447\n",
            "Iteration 1, loss = 2.38036297\n",
            "Iteration 2, loss = 2.37023213\n",
            "Iteration 3, loss = 2.36020681\n",
            "Iteration 4, loss = 2.35028901\n",
            "Iteration 5, loss = 2.34048123\n",
            "Iteration 6, loss = 2.33078546\n",
            "Iteration 7, loss = 2.32120297\n",
            "Iteration 8, loss = 2.31173434\n",
            "Iteration 9, loss = 2.30237944\n",
            "Iteration 10, loss = 2.29313757\n",
            "Iteration 1, loss = 2.36281718\n",
            "Iteration 2, loss = 2.35281507\n",
            "Iteration 3, loss = 2.34290835\n",
            "Iteration 4, loss = 2.33309752\n",
            "Iteration 5, loss = 2.32338447\n",
            "Iteration 6, loss = 2.31377113\n",
            "Iteration 7, loss = 2.30425913\n",
            "Iteration 8, loss = 2.29484951\n",
            "Iteration 9, loss = 2.28554264\n",
            "Iteration 10, loss = 2.27633819\n",
            "Iteration 1, loss = 2.59776292\n",
            "Iteration 2, loss = 2.52692806\n",
            "Iteration 3, loss = 2.45749337\n",
            "Iteration 4, loss = 2.38973129\n",
            "Iteration 5, loss = 2.32319649\n",
            "Iteration 1, loss = 2.64135257\n",
            "Iteration 2, loss = 2.56714062\n",
            "Iteration 3, loss = 2.49400177\n",
            "Iteration 4, loss = 2.42227350\n",
            "Iteration 5, loss = 2.35173840\n",
            "Iteration 1, loss = 2.59776292\n",
            "Iteration 2, loss = 2.52692806\n",
            "Iteration 3, loss = 2.45749337\n",
            "Iteration 4, loss = 2.38973129\n",
            "Iteration 5, loss = 2.32319649\n",
            "Iteration 6, loss = 2.25833725\n",
            "Iteration 7, loss = 2.19498422\n",
            "Iteration 8, loss = 2.13316930\n",
            "Iteration 9, loss = 2.07266243\n",
            "Iteration 10, loss = 2.01366210\n",
            "Iteration 1, loss = 2.64135257\n",
            "Iteration 2, loss = 2.56714062\n",
            "Iteration 3, loss = 2.49400177\n",
            "Iteration 4, loss = 2.42227350\n",
            "Iteration 5, loss = 2.35173840\n",
            "Iteration 6, loss = 2.28273488\n",
            "Iteration 7, loss = 2.21514977\n",
            "Iteration 8, loss = 2.14901501\n",
            "Iteration 9, loss = 2.08424815\n",
            "Iteration 10, loss = 2.02093395\n",
            "Iteration 1, loss = 2.90182282\n",
            "Iteration 2, loss = 2.86074053\n",
            "Iteration 3, loss = 2.82052554\n",
            "Iteration 4, loss = 2.78099116\n",
            "Iteration 5, loss = 2.74201515\n",
            "Iteration 1, loss = 2.84717824\n",
            "Iteration 2, loss = 2.80598468\n",
            "Iteration 3, loss = 2.76525567\n",
            "Iteration 4, loss = 2.72503922\n",
            "Iteration 5, loss = 2.68534848\n",
            "Iteration 1, loss = 2.90182282\n",
            "Iteration 2, loss = 2.86074053\n",
            "Iteration 3, loss = 2.82052554\n",
            "Iteration 4, loss = 2.78099116\n",
            "Iteration 5, loss = 2.74201515\n",
            "Iteration 6, loss = 2.70346737\n",
            "Iteration 7, loss = 2.66526269\n",
            "Iteration 8, loss = 2.62757793\n",
            "Iteration 9, loss = 2.59063322\n",
            "Iteration 10, loss = 2.55439431\n",
            "Iteration 1, loss = 2.84717824\n",
            "Iteration 2, loss = 2.80598468\n",
            "Iteration 3, loss = 2.76525567\n",
            "Iteration 4, loss = 2.72503922\n",
            "Iteration 5, loss = 2.68534848\n",
            "Iteration 6, loss = 2.64626609\n",
            "Iteration 7, loss = 2.60804905\n",
            "Iteration 8, loss = 2.57034257\n",
            "Iteration 9, loss = 2.53314836\n",
            "Iteration 10, loss = 2.49648128\n",
            "Iteration 1, loss = 2.61953470\n",
            "Iteration 2, loss = 2.55025093\n",
            "Iteration 3, loss = 2.48205870\n",
            "Iteration 4, loss = 2.41512373\n",
            "Iteration 5, loss = 2.34933037\n",
            "Iteration 6, loss = 2.28494023\n",
            "Iteration 7, loss = 2.22184601\n",
            "Iteration 8, loss = 2.16021237\n",
            "Iteration 9, loss = 2.10005967\n",
            "Iteration 10, loss = 2.04113718\n"
          ]
        }
      ],
      "source": [
        "# Assign clf to the optimized (with grid search) MLP model\n",
        "# Initialize the MLPClassifier with specified parameters\n",
        "mlp = MLPClassifier(random_state=random_state, verbose=True)\n",
        "\n",
        "# Set up the GridSearchCV\n",
        "grid_search = GridSearchCV(estimator=mlp, param_grid=parameters, cv=2, scoring='accuracy')\n",
        "\n",
        "# Fit the GridSearchCV to the standardized training data\n",
        "grid_search.fit(X_stand_train, Y_train)\n",
        "\n",
        "# Assign the best model to clf\n",
        "clf = grid_search\n",
        "#TODO: add your code here"
      ]
    },
    {
      "cell_type": "code",
      "execution_count": 27,
      "metadata": {
        "id": "88VSiYeCquAn",
        "colab": {
          "base_uri": "https://localhost:8080/",
          "height": 97
        },
        "outputId": "18a7134b-20c5-4d4b-ce25-34d9a8903b2d"
      },
      "outputs": [
        {
          "output_type": "execute_result",
          "data": {
            "text/plain": [
              "MLPClassifier(hidden_layer_sizes=(50,), max_iter=10, random_state=42,\n",
              "              verbose=True)"
            ],
            "text/html": [
              "<style>#sk-container-id-2 {\n",
              "  /* Definition of color scheme common for light and dark mode */\n",
              "  --sklearn-color-text: black;\n",
              "  --sklearn-color-line: gray;\n",
              "  /* Definition of color scheme for unfitted estimators */\n",
              "  --sklearn-color-unfitted-level-0: #fff5e6;\n",
              "  --sklearn-color-unfitted-level-1: #f6e4d2;\n",
              "  --sklearn-color-unfitted-level-2: #ffe0b3;\n",
              "  --sklearn-color-unfitted-level-3: chocolate;\n",
              "  /* Definition of color scheme for fitted estimators */\n",
              "  --sklearn-color-fitted-level-0: #f0f8ff;\n",
              "  --sklearn-color-fitted-level-1: #d4ebff;\n",
              "  --sklearn-color-fitted-level-2: #b3dbfd;\n",
              "  --sklearn-color-fitted-level-3: cornflowerblue;\n",
              "\n",
              "  /* Specific color for light theme */\n",
              "  --sklearn-color-text-on-default-background: var(--sg-text-color, var(--theme-code-foreground, var(--jp-content-font-color1, black)));\n",
              "  --sklearn-color-background: var(--sg-background-color, var(--theme-background, var(--jp-layout-color0, white)));\n",
              "  --sklearn-color-border-box: var(--sg-text-color, var(--theme-code-foreground, var(--jp-content-font-color1, black)));\n",
              "  --sklearn-color-icon: #696969;\n",
              "\n",
              "  @media (prefers-color-scheme: dark) {\n",
              "    /* Redefinition of color scheme for dark theme */\n",
              "    --sklearn-color-text-on-default-background: var(--sg-text-color, var(--theme-code-foreground, var(--jp-content-font-color1, white)));\n",
              "    --sklearn-color-background: var(--sg-background-color, var(--theme-background, var(--jp-layout-color0, #111)));\n",
              "    --sklearn-color-border-box: var(--sg-text-color, var(--theme-code-foreground, var(--jp-content-font-color1, white)));\n",
              "    --sklearn-color-icon: #878787;\n",
              "  }\n",
              "}\n",
              "\n",
              "#sk-container-id-2 {\n",
              "  color: var(--sklearn-color-text);\n",
              "}\n",
              "\n",
              "#sk-container-id-2 pre {\n",
              "  padding: 0;\n",
              "}\n",
              "\n",
              "#sk-container-id-2 input.sk-hidden--visually {\n",
              "  border: 0;\n",
              "  clip: rect(1px 1px 1px 1px);\n",
              "  clip: rect(1px, 1px, 1px, 1px);\n",
              "  height: 1px;\n",
              "  margin: -1px;\n",
              "  overflow: hidden;\n",
              "  padding: 0;\n",
              "  position: absolute;\n",
              "  width: 1px;\n",
              "}\n",
              "\n",
              "#sk-container-id-2 div.sk-dashed-wrapped {\n",
              "  border: 1px dashed var(--sklearn-color-line);\n",
              "  margin: 0 0.4em 0.5em 0.4em;\n",
              "  box-sizing: border-box;\n",
              "  padding-bottom: 0.4em;\n",
              "  background-color: var(--sklearn-color-background);\n",
              "}\n",
              "\n",
              "#sk-container-id-2 div.sk-container {\n",
              "  /* jupyter's `normalize.less` sets `[hidden] { display: none; }`\n",
              "     but bootstrap.min.css set `[hidden] { display: none !important; }`\n",
              "     so we also need the `!important` here to be able to override the\n",
              "     default hidden behavior on the sphinx rendered scikit-learn.org.\n",
              "     See: https://github.com/scikit-learn/scikit-learn/issues/21755 */\n",
              "  display: inline-block !important;\n",
              "  position: relative;\n",
              "}\n",
              "\n",
              "#sk-container-id-2 div.sk-text-repr-fallback {\n",
              "  display: none;\n",
              "}\n",
              "\n",
              "div.sk-parallel-item,\n",
              "div.sk-serial,\n",
              "div.sk-item {\n",
              "  /* draw centered vertical line to link estimators */\n",
              "  background-image: linear-gradient(var(--sklearn-color-text-on-default-background), var(--sklearn-color-text-on-default-background));\n",
              "  background-size: 2px 100%;\n",
              "  background-repeat: no-repeat;\n",
              "  background-position: center center;\n",
              "}\n",
              "\n",
              "/* Parallel-specific style estimator block */\n",
              "\n",
              "#sk-container-id-2 div.sk-parallel-item::after {\n",
              "  content: \"\";\n",
              "  width: 100%;\n",
              "  border-bottom: 2px solid var(--sklearn-color-text-on-default-background);\n",
              "  flex-grow: 1;\n",
              "}\n",
              "\n",
              "#sk-container-id-2 div.sk-parallel {\n",
              "  display: flex;\n",
              "  align-items: stretch;\n",
              "  justify-content: center;\n",
              "  background-color: var(--sklearn-color-background);\n",
              "  position: relative;\n",
              "}\n",
              "\n",
              "#sk-container-id-2 div.sk-parallel-item {\n",
              "  display: flex;\n",
              "  flex-direction: column;\n",
              "}\n",
              "\n",
              "#sk-container-id-2 div.sk-parallel-item:first-child::after {\n",
              "  align-self: flex-end;\n",
              "  width: 50%;\n",
              "}\n",
              "\n",
              "#sk-container-id-2 div.sk-parallel-item:last-child::after {\n",
              "  align-self: flex-start;\n",
              "  width: 50%;\n",
              "}\n",
              "\n",
              "#sk-container-id-2 div.sk-parallel-item:only-child::after {\n",
              "  width: 0;\n",
              "}\n",
              "\n",
              "/* Serial-specific style estimator block */\n",
              "\n",
              "#sk-container-id-2 div.sk-serial {\n",
              "  display: flex;\n",
              "  flex-direction: column;\n",
              "  align-items: center;\n",
              "  background-color: var(--sklearn-color-background);\n",
              "  padding-right: 1em;\n",
              "  padding-left: 1em;\n",
              "}\n",
              "\n",
              "\n",
              "/* Toggleable style: style used for estimator/Pipeline/ColumnTransformer box that is\n",
              "clickable and can be expanded/collapsed.\n",
              "- Pipeline and ColumnTransformer use this feature and define the default style\n",
              "- Estimators will overwrite some part of the style using the `sk-estimator` class\n",
              "*/\n",
              "\n",
              "/* Pipeline and ColumnTransformer style (default) */\n",
              "\n",
              "#sk-container-id-2 div.sk-toggleable {\n",
              "  /* Default theme specific background. It is overwritten whether we have a\n",
              "  specific estimator or a Pipeline/ColumnTransformer */\n",
              "  background-color: var(--sklearn-color-background);\n",
              "}\n",
              "\n",
              "/* Toggleable label */\n",
              "#sk-container-id-2 label.sk-toggleable__label {\n",
              "  cursor: pointer;\n",
              "  display: block;\n",
              "  width: 100%;\n",
              "  margin-bottom: 0;\n",
              "  padding: 0.5em;\n",
              "  box-sizing: border-box;\n",
              "  text-align: center;\n",
              "}\n",
              "\n",
              "#sk-container-id-2 label.sk-toggleable__label-arrow:before {\n",
              "  /* Arrow on the left of the label */\n",
              "  content: \"▸\";\n",
              "  float: left;\n",
              "  margin-right: 0.25em;\n",
              "  color: var(--sklearn-color-icon);\n",
              "}\n",
              "\n",
              "#sk-container-id-2 label.sk-toggleable__label-arrow:hover:before {\n",
              "  color: var(--sklearn-color-text);\n",
              "}\n",
              "\n",
              "/* Toggleable content - dropdown */\n",
              "\n",
              "#sk-container-id-2 div.sk-toggleable__content {\n",
              "  max-height: 0;\n",
              "  max-width: 0;\n",
              "  overflow: hidden;\n",
              "  text-align: left;\n",
              "  /* unfitted */\n",
              "  background-color: var(--sklearn-color-unfitted-level-0);\n",
              "}\n",
              "\n",
              "#sk-container-id-2 div.sk-toggleable__content.fitted {\n",
              "  /* fitted */\n",
              "  background-color: var(--sklearn-color-fitted-level-0);\n",
              "}\n",
              "\n",
              "#sk-container-id-2 div.sk-toggleable__content pre {\n",
              "  margin: 0.2em;\n",
              "  border-radius: 0.25em;\n",
              "  color: var(--sklearn-color-text);\n",
              "  /* unfitted */\n",
              "  background-color: var(--sklearn-color-unfitted-level-0);\n",
              "}\n",
              "\n",
              "#sk-container-id-2 div.sk-toggleable__content.fitted pre {\n",
              "  /* unfitted */\n",
              "  background-color: var(--sklearn-color-fitted-level-0);\n",
              "}\n",
              "\n",
              "#sk-container-id-2 input.sk-toggleable__control:checked~div.sk-toggleable__content {\n",
              "  /* Expand drop-down */\n",
              "  max-height: 200px;\n",
              "  max-width: 100%;\n",
              "  overflow: auto;\n",
              "}\n",
              "\n",
              "#sk-container-id-2 input.sk-toggleable__control:checked~label.sk-toggleable__label-arrow:before {\n",
              "  content: \"▾\";\n",
              "}\n",
              "\n",
              "/* Pipeline/ColumnTransformer-specific style */\n",
              "\n",
              "#sk-container-id-2 div.sk-label input.sk-toggleable__control:checked~label.sk-toggleable__label {\n",
              "  color: var(--sklearn-color-text);\n",
              "  background-color: var(--sklearn-color-unfitted-level-2);\n",
              "}\n",
              "\n",
              "#sk-container-id-2 div.sk-label.fitted input.sk-toggleable__control:checked~label.sk-toggleable__label {\n",
              "  background-color: var(--sklearn-color-fitted-level-2);\n",
              "}\n",
              "\n",
              "/* Estimator-specific style */\n",
              "\n",
              "/* Colorize estimator box */\n",
              "#sk-container-id-2 div.sk-estimator input.sk-toggleable__control:checked~label.sk-toggleable__label {\n",
              "  /* unfitted */\n",
              "  background-color: var(--sklearn-color-unfitted-level-2);\n",
              "}\n",
              "\n",
              "#sk-container-id-2 div.sk-estimator.fitted input.sk-toggleable__control:checked~label.sk-toggleable__label {\n",
              "  /* fitted */\n",
              "  background-color: var(--sklearn-color-fitted-level-2);\n",
              "}\n",
              "\n",
              "#sk-container-id-2 div.sk-label label.sk-toggleable__label,\n",
              "#sk-container-id-2 div.sk-label label {\n",
              "  /* The background is the default theme color */\n",
              "  color: var(--sklearn-color-text-on-default-background);\n",
              "}\n",
              "\n",
              "/* On hover, darken the color of the background */\n",
              "#sk-container-id-2 div.sk-label:hover label.sk-toggleable__label {\n",
              "  color: var(--sklearn-color-text);\n",
              "  background-color: var(--sklearn-color-unfitted-level-2);\n",
              "}\n",
              "\n",
              "/* Label box, darken color on hover, fitted */\n",
              "#sk-container-id-2 div.sk-label.fitted:hover label.sk-toggleable__label.fitted {\n",
              "  color: var(--sklearn-color-text);\n",
              "  background-color: var(--sklearn-color-fitted-level-2);\n",
              "}\n",
              "\n",
              "/* Estimator label */\n",
              "\n",
              "#sk-container-id-2 div.sk-label label {\n",
              "  font-family: monospace;\n",
              "  font-weight: bold;\n",
              "  display: inline-block;\n",
              "  line-height: 1.2em;\n",
              "}\n",
              "\n",
              "#sk-container-id-2 div.sk-label-container {\n",
              "  text-align: center;\n",
              "}\n",
              "\n",
              "/* Estimator-specific */\n",
              "#sk-container-id-2 div.sk-estimator {\n",
              "  font-family: monospace;\n",
              "  border: 1px dotted var(--sklearn-color-border-box);\n",
              "  border-radius: 0.25em;\n",
              "  box-sizing: border-box;\n",
              "  margin-bottom: 0.5em;\n",
              "  /* unfitted */\n",
              "  background-color: var(--sklearn-color-unfitted-level-0);\n",
              "}\n",
              "\n",
              "#sk-container-id-2 div.sk-estimator.fitted {\n",
              "  /* fitted */\n",
              "  background-color: var(--sklearn-color-fitted-level-0);\n",
              "}\n",
              "\n",
              "/* on hover */\n",
              "#sk-container-id-2 div.sk-estimator:hover {\n",
              "  /* unfitted */\n",
              "  background-color: var(--sklearn-color-unfitted-level-2);\n",
              "}\n",
              "\n",
              "#sk-container-id-2 div.sk-estimator.fitted:hover {\n",
              "  /* fitted */\n",
              "  background-color: var(--sklearn-color-fitted-level-2);\n",
              "}\n",
              "\n",
              "/* Specification for estimator info (e.g. \"i\" and \"?\") */\n",
              "\n",
              "/* Common style for \"i\" and \"?\" */\n",
              "\n",
              ".sk-estimator-doc-link,\n",
              "a:link.sk-estimator-doc-link,\n",
              "a:visited.sk-estimator-doc-link {\n",
              "  float: right;\n",
              "  font-size: smaller;\n",
              "  line-height: 1em;\n",
              "  font-family: monospace;\n",
              "  background-color: var(--sklearn-color-background);\n",
              "  border-radius: 1em;\n",
              "  height: 1em;\n",
              "  width: 1em;\n",
              "  text-decoration: none !important;\n",
              "  margin-left: 1ex;\n",
              "  /* unfitted */\n",
              "  border: var(--sklearn-color-unfitted-level-1) 1pt solid;\n",
              "  color: var(--sklearn-color-unfitted-level-1);\n",
              "}\n",
              "\n",
              ".sk-estimator-doc-link.fitted,\n",
              "a:link.sk-estimator-doc-link.fitted,\n",
              "a:visited.sk-estimator-doc-link.fitted {\n",
              "  /* fitted */\n",
              "  border: var(--sklearn-color-fitted-level-1) 1pt solid;\n",
              "  color: var(--sklearn-color-fitted-level-1);\n",
              "}\n",
              "\n",
              "/* On hover */\n",
              "div.sk-estimator:hover .sk-estimator-doc-link:hover,\n",
              ".sk-estimator-doc-link:hover,\n",
              "div.sk-label-container:hover .sk-estimator-doc-link:hover,\n",
              ".sk-estimator-doc-link:hover {\n",
              "  /* unfitted */\n",
              "  background-color: var(--sklearn-color-unfitted-level-3);\n",
              "  color: var(--sklearn-color-background);\n",
              "  text-decoration: none;\n",
              "}\n",
              "\n",
              "div.sk-estimator.fitted:hover .sk-estimator-doc-link.fitted:hover,\n",
              ".sk-estimator-doc-link.fitted:hover,\n",
              "div.sk-label-container:hover .sk-estimator-doc-link.fitted:hover,\n",
              ".sk-estimator-doc-link.fitted:hover {\n",
              "  /* fitted */\n",
              "  background-color: var(--sklearn-color-fitted-level-3);\n",
              "  color: var(--sklearn-color-background);\n",
              "  text-decoration: none;\n",
              "}\n",
              "\n",
              "/* Span, style for the box shown on hovering the info icon */\n",
              ".sk-estimator-doc-link span {\n",
              "  display: none;\n",
              "  z-index: 9999;\n",
              "  position: relative;\n",
              "  font-weight: normal;\n",
              "  right: .2ex;\n",
              "  padding: .5ex;\n",
              "  margin: .5ex;\n",
              "  width: min-content;\n",
              "  min-width: 20ex;\n",
              "  max-width: 50ex;\n",
              "  color: var(--sklearn-color-text);\n",
              "  box-shadow: 2pt 2pt 4pt #999;\n",
              "  /* unfitted */\n",
              "  background: var(--sklearn-color-unfitted-level-0);\n",
              "  border: .5pt solid var(--sklearn-color-unfitted-level-3);\n",
              "}\n",
              "\n",
              ".sk-estimator-doc-link.fitted span {\n",
              "  /* fitted */\n",
              "  background: var(--sklearn-color-fitted-level-0);\n",
              "  border: var(--sklearn-color-fitted-level-3);\n",
              "}\n",
              "\n",
              ".sk-estimator-doc-link:hover span {\n",
              "  display: block;\n",
              "}\n",
              "\n",
              "/* \"?\"-specific style due to the `<a>` HTML tag */\n",
              "\n",
              "#sk-container-id-2 a.estimator_doc_link {\n",
              "  float: right;\n",
              "  font-size: 1rem;\n",
              "  line-height: 1em;\n",
              "  font-family: monospace;\n",
              "  background-color: var(--sklearn-color-background);\n",
              "  border-radius: 1rem;\n",
              "  height: 1rem;\n",
              "  width: 1rem;\n",
              "  text-decoration: none;\n",
              "  /* unfitted */\n",
              "  color: var(--sklearn-color-unfitted-level-1);\n",
              "  border: var(--sklearn-color-unfitted-level-1) 1pt solid;\n",
              "}\n",
              "\n",
              "#sk-container-id-2 a.estimator_doc_link.fitted {\n",
              "  /* fitted */\n",
              "  border: var(--sklearn-color-fitted-level-1) 1pt solid;\n",
              "  color: var(--sklearn-color-fitted-level-1);\n",
              "}\n",
              "\n",
              "/* On hover */\n",
              "#sk-container-id-2 a.estimator_doc_link:hover {\n",
              "  /* unfitted */\n",
              "  background-color: var(--sklearn-color-unfitted-level-3);\n",
              "  color: var(--sklearn-color-background);\n",
              "  text-decoration: none;\n",
              "}\n",
              "\n",
              "#sk-container-id-2 a.estimator_doc_link.fitted:hover {\n",
              "  /* fitted */\n",
              "  background-color: var(--sklearn-color-fitted-level-3);\n",
              "}\n",
              "</style><div id=\"sk-container-id-2\" class=\"sk-top-container\"><div class=\"sk-text-repr-fallback\"><pre>MLPClassifier(hidden_layer_sizes=(50,), max_iter=10, random_state=42,\n",
              "              verbose=True)</pre><b>In a Jupyter environment, please rerun this cell to show the HTML representation or trust the notebook. <br />On GitHub, the HTML representation is unable to render, please try loading this page with nbviewer.org.</b></div><div class=\"sk-container\" hidden><div class=\"sk-item\"><div class=\"sk-estimator fitted sk-toggleable\"><input class=\"sk-toggleable__control sk-hidden--visually\" id=\"sk-estimator-id-2\" type=\"checkbox\" checked><label for=\"sk-estimator-id-2\" class=\"sk-toggleable__label fitted sk-toggleable__label-arrow fitted\">&nbsp;&nbsp;MLPClassifier<a class=\"sk-estimator-doc-link fitted\" rel=\"noreferrer\" target=\"_blank\" href=\"https://scikit-learn.org/1.5/modules/generated/sklearn.neural_network.MLPClassifier.html\">?<span>Documentation for MLPClassifier</span></a><span class=\"sk-estimator-doc-link fitted\">i<span>Fitted</span></span></label><div class=\"sk-toggleable__content fitted\"><pre>MLPClassifier(hidden_layer_sizes=(50,), max_iter=10, random_state=42,\n",
              "              verbose=True)</pre></div> </div></div></div></div>"
            ]
          },
          "metadata": {},
          "execution_count": 27
        }
      ],
      "source": [
        "# Now let's see the parameters of the winning model of our grid search\n",
        "# This model is the one clf actually uses when you call clf.fit\n",
        "clf.best_estimator_"
      ]
    },
    {
      "cell_type": "code",
      "execution_count": 28,
      "metadata": {
        "nbgrader": {
          "grade": true,
          "grade_id": "hyper_tuning_test",
          "locked": true,
          "points": 5,
          "schema_version": 3,
          "solution": false,
          "task": false
        },
        "id": "M0Kx584aquAo"
      },
      "outputs": [],
      "source": [
        "assert list(clf.cv_results_['rank_test_score']) == [3, 2, 8, 6, 4, 1, 6, 5]\n",
        "np.testing.assert_almost_equal(round(clf.best_score_,4), 0.2312)\n",
        "assert clf.best_params_['hidden_layer_sizes'] == (50,)\n",
        "assert clf.best_index_ == 5\n"
      ]
    },
    {
      "cell_type": "code",
      "execution_count": 29,
      "metadata": {
        "nbgrader": {
          "grade": false,
          "grade_id": "cell-b9e3ea0745f19e23",
          "locked": true,
          "schema_version": 3,
          "solution": false,
          "task": false
        },
        "id": "9I3ishhpquAo"
      },
      "outputs": [],
      "source": [
        "from sklearn.metrics import confusion_matrix\n",
        "from sklearn.metrics import classification_report"
      ]
    },
    {
      "cell_type": "markdown",
      "metadata": {
        "nbgrader": {
          "grade": false,
          "grade_id": "cell-3154d0ff3ab7d37a",
          "locked": true,
          "schema_version": 3,
          "solution": false,
          "task": false
        },
        "id": "p4U-rFUhquAo"
      },
      "source": [
        "Now you will use the estimator with the best found parameters to generate predictions (stored as \"y_pred\") on testing dataset, **remember to use \"X_stand_test\"**"
      ]
    },
    {
      "cell_type": "code",
      "execution_count": 34,
      "metadata": {
        "nbgrader": {
          "grade": false,
          "grade_id": "prediction_ans",
          "locked": false,
          "schema_version": 3,
          "solution": true,
          "task": false
        },
        "id": "vj-e8iqwquAo"
      },
      "outputs": [],
      "source": [
        "Y_pred = clf.predict(X_stand_test)\n",
        "#TODO: add your code here\n"
      ]
    },
    {
      "cell_type": "code",
      "execution_count": 35,
      "metadata": {
        "nbgrader": {
          "grade": true,
          "grade_id": "prediction_test",
          "locked": true,
          "points": 2,
          "schema_version": 3,
          "solution": false,
          "task": false
        },
        "id": "oX8l0qjzquAo"
      },
      "outputs": [],
      "source": [
        "assert list(confusion_matrix(Y_test,Y_pred)[0]) == [0, 0, 0, 0, 1, 0, 1, 0, 0, 2]"
      ]
    },
    {
      "cell_type": "code",
      "execution_count": 36,
      "metadata": {
        "nbgrader": {
          "grade": false,
          "grade_id": "cell-a38625450c81cccb",
          "locked": true,
          "schema_version": 3,
          "solution": false,
          "task": false
        },
        "id": "1TCgTpH-quAo",
        "colab": {
          "base_uri": "https://localhost:8080/"
        },
        "outputId": "1d103c86-f974-472f-e892-54a9276fa69a"
      },
      "outputs": [
        {
          "output_type": "stream",
          "name": "stdout",
          "text": [
            "              precision    recall  f1-score   support\n",
            "\n",
            "           0       0.00      0.00      0.00         4\n",
            "           1       0.67      1.00      0.80         4\n",
            "           2       0.20      0.20      0.20         5\n",
            "           3       0.00      0.00      0.00         2\n",
            "           4       0.00      0.00      0.00         2\n",
            "           5       1.00      0.67      0.80         3\n",
            "           6       0.33      0.12      0.18         8\n",
            "           7       0.00      0.00      0.00         3\n",
            "           8       0.20      0.20      0.20         5\n",
            "           9       0.08      0.25      0.12         4\n",
            "\n",
            "    accuracy                           0.25        40\n",
            "   macro avg       0.25      0.24      0.23        40\n",
            "weighted avg       0.27      0.25      0.24        40\n",
            "\n"
          ]
        }
      ],
      "source": [
        "print(classification_report(Y_test,Y_pred))"
      ]
    },
    {
      "cell_type": "markdown",
      "metadata": {
        "id": "oBzRpYEpquAo"
      },
      "source": [
        "Note that in this toy example, we used a very limited set of hyperparmeters to reduce training time, and so our tuned model will actually do worse than our original. However, in practice, the tuned model will generally have better generalization to the test dataset."
      ]
    }
  ],
  "metadata": {
    "celltoolbar": "Create Assignment",
    "kernelspec": {
      "display_name": "Python 3 (ipykernel)",
      "language": "python",
      "name": "python3"
    },
    "language_info": {
      "codemirror_mode": {
        "name": "ipython",
        "version": 3
      },
      "file_extension": ".py",
      "mimetype": "text/x-python",
      "name": "python",
      "nbconvert_exporter": "python",
      "pygments_lexer": "ipython3",
      "version": "3.12.4"
    },
    "colab": {
      "provenance": []
    }
  },
  "nbformat": 4,
  "nbformat_minor": 0
}